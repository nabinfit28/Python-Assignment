{
 "cells": [
  {
   "cell_type": "markdown",
   "metadata": {},
   "source": [
    "# Python-Assignment-1"
   ]
  },
  {
   "cell_type": "raw",
   "metadata": {},
   "source": [
    "# 1. Variable Output: Store the value 3 in a variable called \"x\" and the value 10 in a variable called \"y\". Save the result of x * y into a separate variable called \"result\". Finally, output the information so it shows as the following\n",
    "2. Variable Injection: Create a print statement that injects an integer, float, boolean, and string all into one line. The output should look like \"23 4.5 False John\""
   ]
  },
  {
   "cell_type": "code",
   "execution_count": 4,
   "metadata": {},
   "outputs": [
    {
     "name": "stdout",
     "output_type": "stream",
     "text": [
      "30\n"
     ]
    }
   ],
   "source": [
    "x=3\n",
    "y=10\n",
    "print(x*y)"
   ]
  },
  {
   "cell_type": "code",
   "execution_count": 5,
   "metadata": {},
   "outputs": [
    {
     "name": "stdout",
     "output_type": "stream",
     "text": [
      "2\n",
      "2.0\n",
      "True\n",
      "Nabin\n"
     ]
    }
   ],
   "source": [
    "print(int(2))\n",
    "print(float(2))\n",
    "print(bool(2))\n",
    "print(\"Nabin\")"
   ]
  },
  {
   "cell_type": "raw",
   "metadata": {},
   "source": [
    "Final Assignment: Printing Receipts\n",
    "NOTE: Create top, sides, and bottom borders using star (*)"
   ]
  },
  {
   "cell_type": "code",
   "execution_count": 30,
   "metadata": {},
   "outputs": [
    {
     "name": "stdout",
     "output_type": "stream",
     "text": [
      "ATA Pvt. Ltd. Nepal\n",
      "  Kathmandu,Nepal\n",
      "===================\n",
      "      Items\n",
      "===================\n",
      "Python       30\n",
      "PHP          40\n",
      "Java         50\n",
      "...................\n",
      "Total Price 120\n",
      "===================\n",
      "Thank you for visiting us\n"
     ]
    }
   ],
   "source": [
    "Python=30\n",
    "PHP=40\n",
    "Java=50\n",
    "\n",
    "nbn_company = \"ATA Pvt. Ltd. Nepal\"\n",
    "\n",
    "address = \"Kathmandu,Nepal\"\n",
    "\n",
    "message= \"Thank you for visiting us\"\n",
    "\n",
    "\n",
    "print(nbn_company)\n",
    "print(\" \",address)\n",
    "print(\"===================\")\n",
    "print(\"     \",\"Items\")\n",
    "print(\"===================\")\n",
    "print(\"Python\",\"     \",Python)\n",
    "print(\"PHP\",\"        \",PHP)\n",
    "print(\"Java\",\"       \",Java)\n",
    "print(\"...................\")\n",
    "print(\"Total Price\",Python+PHP+Java)\n",
    "\n",
    "print(\"===================\")\n",
    "print(message)\n"
   ]
  },
  {
   "cell_type": "markdown",
   "metadata": {},
   "source": [
    "# Python-assignment-2"
   ]
  },
  {
   "cell_type": "raw",
   "metadata": {},
   "source": [
    "If Statements Assignment\n",
    "1. using an if statement to only run code if the condition is met\n",
    "2. using the keyword 'and' in an 'if statement'\n",
    "3. using the keyword 'or' in an 'if statement'\n",
    "4. using the keyword 'not' within an 'if statement'"
   ]
  },
  {
   "cell_type": "code",
   "execution_count": 32,
   "metadata": {},
   "outputs": [
    {
     "name": "stdout",
     "output_type": "stream",
     "text": [
      "x is less than y\n"
     ]
    }
   ],
   "source": [
    "x=30\n",
    "y=40\n",
    "if x<y:\n",
    "    print(\"x is less than y\")"
   ]
  },
  {
   "cell_type": "code",
   "execution_count": 37,
   "metadata": {},
   "outputs": [
    {
     "name": "stdout",
     "output_type": "stream",
     "text": [
      "True\n"
     ]
    }
   ],
   "source": [
    "x=2\n",
    "y=5\n",
    "print(x < y and y > x)"
   ]
  },
  {
   "cell_type": "code",
   "execution_count": 38,
   "metadata": {},
   "outputs": [
    {
     "name": "stdout",
     "output_type": "stream",
     "text": [
      "True\n"
     ]
    }
   ],
   "source": [
    "x=2\n",
    "y=5\n",
    "print ( x > y or x < y )"
   ]
  },
  {
   "cell_type": "code",
   "execution_count": 42,
   "metadata": {},
   "outputs": [
    {
     "name": "stdout",
     "output_type": "stream",
     "text": [
      "True\n"
     ]
    }
   ],
   "source": [
    "x=2\n",
    "y=5\n",
    "print(not( x > y and x < y))"
   ]
  },
  {
   "cell_type": "raw",
   "metadata": {},
   "source": [
    "Elif Statements Assignment\n",
    "\n",
    "1.using the elif conditional statement\n",
    "2.checking more than one elif conditional statement\n",
    "3.writing multiple conditionals within each other - multiple block levels\n",
    "4.testing output of two if statements in a row that are both true\n",
    "5.testing output of an if and elif statement that are both true"
   ]
  },
  {
   "cell_type": "code",
   "execution_count": 60,
   "metadata": {},
   "outputs": [
    {
     "name": "stdout",
     "output_type": "stream",
     "text": [
      "x is less than y\n"
     ]
    }
   ],
   "source": [
    "#1.using the elif conditional statement\n",
    "\n",
    "x = 8\n",
    "y = 9\n",
    "\n",
    "if x > y:\n",
    "    print(\" x is greater than y\")\n",
    "    \n",
    "elif x < y:\n",
    "    print(\"x is less than y\")\n",
    "\n",
    "elif x == y:\n",
    "    print(\"x and y is same value\")\n",
    "    "
   ]
  },
  {
   "cell_type": "code",
   "execution_count": 63,
   "metadata": {},
   "outputs": [
    {
     "name": "stdout",
     "output_type": "stream",
     "text": [
      "Yes, You are valid person Nabin\n"
     ]
    }
   ],
   "source": [
    "#2.checking more than one elif conditional statement\n",
    "\n",
    "nbn=\"N\"\n",
    "\n",
    "if (nbn == \"n\" or nbn == \"x\"):\n",
    "    print(\"Not valid person\")\n",
    "\n",
    "elif (nbn == \"N\" or nbn == \"y\"):\n",
    "    print(\"Yes, You are valid person Nabin\")\n",
    "    \n",
    "else:\n",
    "    print(\"All are invalid person check in\")"
   ]
  },
  {
   "cell_type": "code",
   "execution_count": null,
   "metadata": {},
   "outputs": [],
   "source": [
    "#3.writing multiple conditionals within each other - multiple block levels\n",
    "\n",
    "valid_person = int(input(\"Your age==\"))\n",
    "\n",
    "if valid_person <= 19:\n",
    "    print(\"You are under age\")\n",
    "elif valid_person <= 30:\n",
    "    print(\"you are Valid for 'A' category\")\n",
    "elif valid_person <= 40:\n",
    "    print(\"You are valid for 'B' category\")\n",
    "elif valid_person <= 50:\n",
    "    print(\"you are valid for 'C' category\")\n",
    "else:\n",
    "          print(\"you are not valid for the condition\")"
   ]
  }
 ],
 "metadata": {
  "kernelspec": {
   "display_name": "Python 3",
   "language": "python",
   "name": "python3"
  },
  "language_info": {
   "codemirror_mode": {
    "name": "ipython",
    "version": 3
   },
   "file_extension": ".py",
   "mimetype": "text/x-python",
   "name": "python",
   "nbconvert_exporter": "python",
   "pygments_lexer": "ipython3",
   "version": "3.8.5"
  }
 },
 "nbformat": 4,
 "nbformat_minor": 4
}
