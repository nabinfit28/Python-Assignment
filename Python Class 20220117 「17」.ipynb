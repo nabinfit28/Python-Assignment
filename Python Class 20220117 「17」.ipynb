{
 "cells": [
  {
   "cell_type": "markdown",
   "metadata": {},
   "source": [
    "# Python_Class Note"
   ]
  },
  {
   "cell_type": "markdown",
   "metadata": {},
   "source": [
    "# 20210110-Note"
   ]
  },
  {
   "cell_type": "code",
   "execution_count": 11,
   "metadata": {},
   "outputs": [],
   "source": [
    "def leapYear(year):\n",
    "    if year%400 == 0:\n",
    "        print(\"is a Leap Year\",year)\n",
    "    elif year%100 == 0:\n",
    "        print(\"is Not the Leap Year\",year)\n",
    "    elif year%4 == 0:\n",
    "        print(\"is a Leap Year\",year)\n",
    "    else:\n",
    "        print(\"is Not the Leap Year\",year)"
   ]
  },
  {
   "cell_type": "raw",
   "metadata": {},
   "source": [
    "You are driving a little too fast, and a police officer stops you. Write a function to return one of 3 possible results: \"No ticket\", \"Small ticket\", or \"Big Ticket\". If your speed is 60 or less, the result is \"No Ticket\". If speed is between 61 and 80 inclusive, the result is \"Small Ticket\". If speed is 81 or more, the result is \"Big Ticket\". Unless it is your birthday (encoded as a boolean value in the parameters of the function) -- on your birthday, your speed can be 5 higher in all cases."
   ]
  },
  {
   "cell_type": "code",
   "execution_count": 12,
   "metadata": {},
   "outputs": [],
   "source": [
    "def caught_speeding(speed, is_birthday):\n",
    "    if is_birthday == True:\n",
    "        if speed <= 65:\n",
    "            return 'No Ticket'\n",
    "        elif 66 < speed <= 85:\n",
    "            return 'Small Ticket'\n",
    "        else:\n",
    "            return 'Big Ticket'\n",
    "    else:\n",
    "        if speed <= 60:\n",
    "            return 'No Ticket'\n",
    "        elif 61 < speed <= 80:\n",
    "            return 'Small Ticket'\n",
    "        else:\n",
    "            return 'Big Ticket'"
   ]
  },
  {
   "cell_type": "code",
   "execution_count": 13,
   "metadata": {},
   "outputs": [
    {
     "data": {
      "text/plain": [
       "'No Ticket'"
      ]
     },
     "execution_count": 13,
     "metadata": {},
     "output_type": "execute_result"
    }
   ],
   "source": [
    "caught_speeding(45,5)"
   ]
  },
  {
   "cell_type": "code",
   "execution_count": 29,
   "metadata": {},
   "outputs": [],
   "source": [
    "#palemdome\n",
    "\n",
    "def palemdome(num):\n",
    "    x=num\n",
    "    reverse=0\n",
    "    while(num>0):\n",
    "        y=num%10\n",
    "        reverse=reverse*10+y\n",
    "        num=num//10\n",
    "    if(x==reverse):\n",
    "        print(\"palindrome!\")\n",
    "    else:\n",
    "        print(\"no palindrome\")\n",
    "    "
   ]
  },
  {
   "cell_type": "code",
   "execution_count": 32,
   "metadata": {},
   "outputs": [
    {
     "name": "stdout",
     "output_type": "stream",
     "text": [
      "no palindrome\n"
     ]
    }
   ],
   "source": [
    "palemdome(29)"
   ]
  },
  {
   "cell_type": "code",
   "execution_count": 3,
   "metadata": {},
   "outputs": [
    {
     "ename": "TypeError",
     "evalue": "'nabin' is an invalid keyword argument for sort()",
     "output_type": "error",
     "traceback": [
      "\u001b[0;31m---------------------------------------------------------------------------\u001b[0m",
      "\u001b[0;31mTypeError\u001b[0m                                 Traceback (most recent call last)",
      "\u001b[0;32m<ipython-input-3-8e0e654a5700>\u001b[0m in \u001b[0;36m<module>\u001b[0;34m\u001b[0m\n\u001b[1;32m      4\u001b[0m \u001b[0mnabin\u001b[0m \u001b[0;34m=\u001b[0m \u001b[0;34m[\u001b[0m\u001b[0;34m'python'\u001b[0m\u001b[0;34m'PHP'\u001b[0m \u001b[0;34m'Java'\u001b[0m\u001b[0;34m,\u001b[0m\u001b[0;34m'Nabin'\u001b[0m\u001b[0;34m]\u001b[0m\u001b[0;34m\u001b[0m\u001b[0;34m\u001b[0m\u001b[0m\n\u001b[1;32m      5\u001b[0m \u001b[0;34m\u001b[0m\u001b[0m\n\u001b[0;32m----> 6\u001b[0;31m \u001b[0mnabin\u001b[0m\u001b[0;34m.\u001b[0m\u001b[0msort\u001b[0m\u001b[0;34m(\u001b[0m\u001b[0mnabin\u001b[0m\u001b[0;34m=\u001b[0m\u001b[0mmyFunc\u001b[0m\u001b[0;34m)\u001b[0m\u001b[0;34m\u001b[0m\u001b[0;34m\u001b[0m\u001b[0m\n\u001b[0m",
      "\u001b[0;31mTypeError\u001b[0m: 'nabin' is an invalid keyword argument for sort()"
     ]
    }
   ],
   "source": [
    "def myFunc(nabin):\n",
    "    return len(nabin)\n",
    "\n",
    "nabin = ['python''PHP' 'Java','Nabin']\n",
    "\n",
    "nabin.sort(nabin=myFunc)"
   ]
  },
  {
   "cell_type": "code",
   "execution_count": null,
   "metadata": {},
   "outputs": [],
   "source": []
  },
  {
   "cell_type": "code",
   "execution_count": null,
   "metadata": {},
   "outputs": [],
   "source": [
    "slection_sorted Function                                "
   ]
  },
  {
   "cell_type": "code",
   "execution_count": 25,
   "metadata": {},
   "outputs": [],
   "source": [
    "def sorted_check(num):\n",
    "    li = []\n",
    "    sorted_num = 0\n",
    "    while num > 0:\n",
    "        mod = num % 10\n",
    "        li.append(mod)\n",
    "        num = num // 10\n",
    "    li = sorted(li)\n",
    "    for i in li:\n",
    "        sorted_num = sorted_num*10 + i\n",
    "    print(sorted_num)\n"
   ]
  },
  {
   "cell_type": "code",
   "execution_count": 26,
   "metadata": {},
   "outputs": [
    {
     "ename": "SyntaxError",
     "evalue": "invalid syntax (<ipython-input-26-0d5497156187>, line 1)",
     "output_type": "error",
     "traceback": [
      "\u001b[0;36m  File \u001b[0;32m\"<ipython-input-26-0d5497156187>\"\u001b[0;36m, line \u001b[0;32m1\u001b[0m\n\u001b[0;31m    def sorted_check(321232313)\u001b[0m\n\u001b[0m                     ^\u001b[0m\n\u001b[0;31mSyntaxError\u001b[0m\u001b[0;31m:\u001b[0m invalid syntax\n"
     ]
    }
   ],
   "source": [
    "def sorted_check(321232313)"
   ]
  },
  {
   "cell_type": "code",
   "execution_count": null,
   "metadata": {},
   "outputs": [],
   "source": [
    "def bubble_sort(li):\n",
    "    for i in range(len(li)):\n",
    "        n = len(li)\n",
    "        for j in range(n-i-1):\n",
    "            if li[j]>li[j+1]:\n",
    "                li[j],li[j+1] = li[j+1],li[j]\n",
    "    return(li)      "
   ]
  },
  {
   "cell_type": "code",
   "execution_count": 24,
   "metadata": {},
   "outputs": [],
   "source": [
    "def sorted_check(num):\n",
    "    li=[]\n",
    "    sorted_num=0\n",
    "    while num>0:\n",
    "        mod = num % 10\n",
    "        li.append(mod)\n",
    "        num=num//10\n",
    "    li=sorted(li)\n",
    "    for i in li:\n",
    "        sorted_num=sorted_num*10+i\n",
    "    print(sorted_num)"
   ]
  },
  {
   "cell_type": "code",
   "execution_count": 23,
   "metadata": {},
   "outputs": [
    {
     "ename": "SyntaxError",
     "evalue": "invalid syntax (<ipython-input-23-d3017abeb8de>, line 1)",
     "output_type": "error",
     "traceback": [
      "\u001b[0;36m  File \u001b[0;32m\"<ipython-input-23-d3017abeb8de>\"\u001b[0;36m, line \u001b[0;32m1\u001b[0m\n\u001b[0;31m    def sorted_check(34546789)\u001b[0m\n\u001b[0m                     ^\u001b[0m\n\u001b[0;31mSyntaxError\u001b[0m\u001b[0;31m:\u001b[0m invalid syntax\n"
     ]
    }
   ],
   "source": [
    "def sorted_check(34546789)"
   ]
  },
  {
   "cell_type": "code",
   "execution_count": 7,
   "metadata": {},
   "outputs": [],
   "source": [
    "def bubble_sort(li):\n",
    "    for i in range(len(li)):\n",
    "        n=len(li)\n",
    "        for j in range(n-i-1):\n",
    "            if li[j]>li[j+1]:\n",
    "                li[j],li[j+i]=li[j+l],li[j]\n",
    "    return(li)"
   ]
  },
  {
   "cell_type": "code",
   "execution_count": 21,
   "metadata": {},
   "outputs": [
    {
     "ename": "SyntaxError",
     "evalue": "invalid syntax (<ipython-input-21-67987c68ba39>, line 1)",
     "output_type": "error",
     "traceback": [
      "\u001b[0;36m  File \u001b[0;32m\"<ipython-input-21-67987c68ba39>\"\u001b[0;36m, line \u001b[0;32m1\u001b[0m\n\u001b[0;31m    def bubble_sort[2,4,5,6,7,24]\u001b[0m\n\u001b[0m                   ^\u001b[0m\n\u001b[0;31mSyntaxError\u001b[0m\u001b[0;31m:\u001b[0m invalid syntax\n"
     ]
    }
   ],
   "source": [
    "def bubble_sort(2,4,5,6,7,24)"
   ]
  },
  {
   "cell_type": "code",
   "execution_count": 33,
   "metadata": {},
   "outputs": [
    {
     "name": "stdout",
     "output_type": "stream",
     "text": [
      "[35, 62, 29, 44]\n",
      "[56, 108, 60, 64]\n",
      "[55, 126, 77, 52]\n"
     ]
    }
   ],
   "source": [
    "X=[[1,3,5],\n",
    "  [4,5,6],\n",
    "  [9,4,3]]\n",
    "\n",
    "Y=[[3,9,5,2],\n",
    "  [4,6,8,4],\n",
    "  [4,7,0,6]]\n",
    "\n",
    "Z=[[0,0,0,0],\n",
    " [0,0,0,0],\n",
    " [0,0,0,0]]\n",
    "\n",
    "for i in range(len(X[0])):\n",
    "    for j in range(len(Y[0])):\n",
    "        for k in range(len(Y)):\n",
    "            Z[i][j]+=X[i][k]*Y[k][j]\n",
    "for r in Z:\n",
    "    print(r)\n",
    "            \n",
    "    "
   ]
  },
  {
   "cell_type": "code",
   "execution_count": 36,
   "metadata": {},
   "outputs": [
    {
     "ename": "TypeError",
     "evalue": "'int' object is not subscriptable",
     "output_type": "error",
     "traceback": [
      "\u001b[0;31m---------------------------------------------------------------------------\u001b[0m",
      "\u001b[0;31mTypeError\u001b[0m                                 Traceback (most recent call last)",
      "\u001b[0;32m<ipython-input-36-35cc6ed062fb>\u001b[0m in \u001b[0;36m<module>\u001b[0;34m\u001b[0m\n\u001b[1;32m     13\u001b[0m     \u001b[0;32mfor\u001b[0m \u001b[0mj\u001b[0m \u001b[0;32min\u001b[0m \u001b[0mrange\u001b[0m\u001b[0;34m(\u001b[0m\u001b[0mlen\u001b[0m\u001b[0;34m(\u001b[0m\u001b[0mb\u001b[0m\u001b[0;34m[\u001b[0m\u001b[0;36m0\u001b[0m\u001b[0;34m]\u001b[0m\u001b[0;34m)\u001b[0m\u001b[0;34m)\u001b[0m\u001b[0;34m:\u001b[0m\u001b[0;34m\u001b[0m\u001b[0;34m\u001b[0m\u001b[0m\n\u001b[1;32m     14\u001b[0m         \u001b[0;32mfor\u001b[0m \u001b[0mk\u001b[0m \u001b[0;32min\u001b[0m \u001b[0mrange\u001b[0m\u001b[0;34m(\u001b[0m\u001b[0mlen\u001b[0m\u001b[0;34m(\u001b[0m\u001b[0mb\u001b[0m\u001b[0;34m)\u001b[0m\u001b[0;34m)\u001b[0m\u001b[0;34m:\u001b[0m\u001b[0;34m\u001b[0m\u001b[0;34m\u001b[0m\u001b[0m\n\u001b[0;32m---> 15\u001b[0;31m             \u001b[0mc\u001b[0m\u001b[0;34m[\u001b[0m\u001b[0mi\u001b[0m\u001b[0;34m]\u001b[0m\u001b[0;34m[\u001b[0m\u001b[0mj\u001b[0m\u001b[0;34m]\u001b[0m\u001b[0;34m+=\u001b[0m\u001b[0ma\u001b[0m\u001b[0;34m[\u001b[0m\u001b[0mi\u001b[0m\u001b[0;34m]\u001b[0m\u001b[0;34m[\u001b[0m\u001b[0mk\u001b[0m\u001b[0;34m]\u001b[0m\u001b[0;34m*\u001b[0m\u001b[0mc\u001b[0m\u001b[0;34m[\u001b[0m\u001b[0mk\u001b[0m\u001b[0;34m[\u001b[0m\u001b[0mj\u001b[0m\u001b[0;34m]\u001b[0m\u001b[0;34m]\u001b[0m\u001b[0;34m\u001b[0m\u001b[0;34m\u001b[0m\u001b[0m\n\u001b[0m\u001b[1;32m     16\u001b[0m \u001b[0;34m\u001b[0m\u001b[0m\n\u001b[1;32m     17\u001b[0m \u001b[0;32mfor\u001b[0m \u001b[0mr\u001b[0m \u001b[0;32min\u001b[0m \u001b[0mc\u001b[0m\u001b[0;34m:\u001b[0m\u001b[0;34m\u001b[0m\u001b[0;34m\u001b[0m\u001b[0m\n",
      "\u001b[0;31mTypeError\u001b[0m: 'int' object is not subscriptable"
     ]
    }
   ],
   "source": [
    "a=[[3,4,5],\n",
    "  [5,4,3]]\n",
    "\n",
    "b=[[3,3,2],\n",
    "  [3,5,3],\n",
    "  [3,2,5]]\n",
    "\n",
    "c=[[0,0,0],\n",
    "  [0,0,0],\n",
    "  [0,0,0]]\n",
    "\n",
    "for i in range(len(a[0])):\n",
    "    for j in range(len(b[0])):\n",
    "        for k in range(len(b)):\n",
    "            c[i][j]+=a[i][k]*c[k[j]]\n",
    "\n",
    "for r in c:\n",
    "    print(r)\n",
    "\n"
   ]
  },
  {
   "cell_type": "code",
   "execution_count": 37,
   "metadata": {},
   "outputs": [
    {
     "name": "stdout",
     "output_type": "stream",
     "text": [
      "A = [[1, 4, 5, 12], [-5, 8, 9, 0], [-6, 7, 11, 19]]\n",
      "A[1] = [-5, 8, 9, 0]\n",
      "A[1][2] = 9\n",
      "A[0][-1] = 12\n",
      "3rd column = [5, 9, 11]\n"
     ]
    }
   ],
   "source": [
    "A = [[1, 4, 5, 12], \n",
    "    [-5, 8, 9, 0],\n",
    "    [-6, 7, 11, 19]]\n",
    "\n",
    "print(\"A =\", A) \n",
    "print(\"A[1] =\", A[1])      # 2nd row\n",
    "print(\"A[1][2] =\", A[1][2])   # 3rd element of 2nd row\n",
    "print(\"A[0][-1] =\", A[0][-1])   # Last element of 1st Row\n",
    "\n",
    "column = [];        # empty list\n",
    "for row in A:\n",
    "  column.append(row[2])   \n",
    "\n",
    "print(\"3rd column =\", column)"
   ]
  },
  {
   "cell_type": "code",
   "execution_count": null,
   "metadata": {},
   "outputs": [],
   "source": [
    "def metrix_mul(metrix):\n",
    "    for i in range(len(metrix)):\n",
    "        for j in range(len(metrix)):\n",
    "            print(\"\\t\",metrix[i][j],end=\" \")\n",
    "        print(\"\\n\")\n",
    "def main():\n",
    "    m = int(input(\"enter the value for the first row\"))\n",
    "    n = int(input(\"enter the value for first col\"))\n",
    "    p = int(input(\"enter the value for second row\"))\n",
    "    q = int(input(\"enter the value for second  col\"))\n",
    "    \n",
    "    if n!=p:\n",
    "        print(\"Metrix  Mulitiplication not possible\")\n",
    "        exit();\n",
    "    arr1=[[0 for j in range(0,n)]for i in range(0,m)]\n",
    "    arr2=[[0 for j in range (0,q)] for i in range(0,p)]\n",
    "    result = [[0 for j in range (0,q)] for i in range(0,m)]\n",
    "    \n",
    "    print(\"enter first matrix elements\")\n",
    "    for i in range(0,m):\n",
    "        for j in range(0,n):\n",
    "            arr1[i][j]=int(input(\"enter the first number\"))\n",
    "    \n",
    "    print(\"enter second matrix elements\")\n",
    "    for i in range(0,p):\n",
    "        for j in range(0,q):\n",
    "            arr2[i][j] = int(input(\"enter the second matrix\"))\n",
    "    print(\"print first matrix\")\n",
    "    print(arr1)\n",
    "    print(\"second matrix\")\n",
    "    print(arr2)\n",
    "    \n",
    "    for i in range(0,m):\n",
    "        for j in range(0,q):\n",
    "            for k in range(0,n):\n",
    "                result[i][j]+= arr1[i][k]*arr2[k][j]\n",
    "        \n",
    "    print(\"The result multiplication is \")\n",
    "    metrix_mul(result)\n",
    "    \n",
    "main()    \n",
    "\n"
   ]
  },
  {
   "cell_type": "code",
   "execution_count": null,
   "metadata": {},
   "outputs": [],
   "source": [
    "\n",
    "X = [[1,2,3], \n",
    "    [4 ,5,6], \n",
    "    [7 ,8,9]] \n",
    "   \n",
    "Y = [[9,8,7], \n",
    "    [6,5,4], \n",
    "    [3,2,1]] \n",
    "  \n",
    "result = [[X[i][j] + Y[i][j]  for j in range\n",
    "(len(X[0]))] for i in range(len(X))] \n",
    "   \n",
    "for r in result: \n",
    "    print(r) "
   ]
  },
  {
   "cell_type": "code",
   "execution_count": null,
   "metadata": {},
   "outputs": [],
   "source": [
    "X = [[12,7,3],\n",
    "    [4 ,5,6],\n",
    "    [7 ,8,9]]\n",
    "\n",
    "Y = [[5,8,1],\n",
    "    [6,7,3],\n",
    "    [4,5,9]]\n",
    "\n",
    "result = [[0,0,0],\n",
    "         [0,0,0],\n",
    "         [0,0,0]]\n",
    "\n",
    "\n",
    "for i in range(len(X)):\n",
    "    for j in range(len(X[0])):\n",
    "        result[i][j] = X[i][j] + Y[i][j]\n",
    "\n",
    "for r in result:\n",
    "    print(r)"
   ]
  },
  {
   "cell_type": "markdown",
   "metadata": {},
   "source": [
    "# 20210117 「17」"
   ]
  },
  {
   "cell_type": "code",
   "execution_count": null,
   "metadata": {},
   "outputs": [],
   "source": [
    "#lambda function \n",
    "\n",
    "(lambda y : y%2 == 0 )(76)"
   ]
  },
  {
   "cell_type": "code",
   "execution_count": null,
   "metadata": {},
   "outputs": [],
   "source": [
    "li = [5, 7, 22, 97, 54, 62, 77, 23, 73, 61] \n",
    "final_list = list(map(lambda x: x**3, li)) \n",
    "print(final_list)"
   ]
  },
  {
   "cell_type": "raw",
   "metadata": {},
   "source": [
    "1. using a lambda to square a number\n",
    "2. using if/else statements within a lambda to return the greater number\n",
    "3. returning a lambda function from another function"
   ]
  },
  {
   "cell_type": "code",
   "execution_count": 6,
   "metadata": {},
   "outputs": [
    {
     "name": "stdout",
     "output_type": "stream",
     "text": [
      "[4, 16, 36, 49, 6084, 7744, 7921]\n"
     ]
    }
   ],
   "source": [
    "li = [2,4,6,7,78,88,89]\n",
    "final_list = list(map(lambda x:x ** 2, li))\n",
    "print(final_list)"
   ]
  },
  {
   "cell_type": "code",
   "execution_count": 10,
   "metadata": {},
   "outputs": [
    {
     "name": "stdout",
     "output_type": "stream",
     "text": [
      "14\n",
      "17\n"
     ]
    }
   ],
   "source": [
    "#2 \n",
    "greater_result = lambda x : x*2 if x < 10 else (x*3 if x < 15 else x)\n",
    "print(greater_result(7))\n",
    "print(greater_result(17))"
   ]
  },
  {
   "cell_type": "code",
   "execution_count": 15,
   "metadata": {},
   "outputs": [
    {
     "name": "stdout",
     "output_type": "stream",
     "text": [
      "[0, 1, 1, 0, 1]\n"
     ]
    }
   ],
   "source": [
    "#3\n",
    "num_list = [2,5,7,8,9]\n",
    "\n",
    "#reminder\n",
    "\n",
    "mapped_list = list(map(lambda num: num%2, num_list))\n",
    "\n",
    "print(mapped_list)"
   ]
  },
  {
   "cell_type": "code",
   "execution_count": null,
   "metadata": {},
   "outputs": [],
   "source": [
    "(lamda x:)"
   ]
  },
  {
   "cell_type": "code",
   "execution_count": 24,
   "metadata": {},
   "outputs": [
    {
     "name": "stdout",
     "output_type": "stream",
     "text": [
      "closure(10) = 20\n",
      "closure(11) = 22\n",
      "closure(12) = 24\n",
      "closure(13) = 26\n",
      "closure(14) = 28\n",
      "closure(15) = 30\n",
      "closure(16) = 32\n",
      "closure(17) = 34\n",
      "closure(18) = 36\n",
      "closure(19) = 38\n"
     ]
    }
   ],
   "source": [
    "def outer_func(x):\n",
    "    y = 10\n",
    "    return lambda z: x + y + z\n",
    "\n",
    "for i in range(10):\n",
    "    closure = outer_func(i)\n",
    "    print(f\"closure({i+10}) = {closure(i+10)}\")"
   ]
  }
 ],
 "metadata": {
  "kernelspec": {
   "display_name": "Python 3",
   "language": "python",
   "name": "python3"
  },
  "language_info": {
   "codemirror_mode": {
    "name": "ipython",
    "version": 3
   },
   "file_extension": ".py",
   "mimetype": "text/x-python",
   "name": "python",
   "nbconvert_exporter": "python",
   "pygments_lexer": "ipython3",
   "version": "3.8.5"
  }
 },
 "nbformat": 4,
 "nbformat_minor": 4
}
